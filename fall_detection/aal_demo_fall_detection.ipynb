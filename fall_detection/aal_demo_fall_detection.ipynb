{
 "cells": [
  {
   "cell_type": "markdown",
   "metadata": {},
   "source": [
    "# Ambient assisted living demonstration - A scenario to resolve detected fall event  <a class=\"tocSkip\">\n",
    "\n",
    "    \n",
    "*This notebook is serving as a demonstration to the paper 'Perspectives and solutions towards intelligent ambient assisted living systems', in submission to the special issue on 'Applications of Computational Intelligence based Systems for Societal Enhancement' of the INTERNATIONAL JOURNAL OF INTELLIGENT SYSTEMS.*"
   ]
  },
  {
   "cell_type": "markdown",
   "metadata": {
    "toc": true
   },
   "source": [
    "<h1>Table of Contents<span class=\"tocSkip\"></span></h1>\n",
    "<div class=\"toc\"><ul class=\"toc-item\"><li><span><a href=\"#Introduction\" data-toc-modified-id=\"Introduction-1\">Introduction</a></span></li><li><span><a href=\"#Folders-and-files\" data-toc-modified-id=\"Folders-and-files-2\">Folders and files</a></span></li><li><span><a href=\"#Scenario-A,-fulfiling-the-workflow-with-adaptive-path-generation,-without-specific-clinical-knowledge\" data-toc-modified-id=\"Scenario-A,-fulfiling-the-workflow-with-adaptive-path-generation,-without-specific-clinical-knowledge-3\">Scenario A, fulfiling the workflow with adaptive path generation, without specific clinical knowledge</a></span><ul class=\"toc-item\"><li><span><a href=\"#At-T0,-a-fall-event-is-detected\" data-toc-modified-id=\"At-T0,-a-fall-event-is-detected-3.1\">At T0, a fall event is detected</a></span></li><li><span><a href=\"#At-T1,-a-fall-event-is-confirmed\" data-toc-modified-id=\"At-T1,-a-fall-event-is-confirmed-3.2\">At T1, a fall event is confirmed</a></span></li><li><span><a href=\"#At-T2,-non-medical-assistance-is-required,-with-distance-limit-updated-to-be-more-tight\" data-toc-modified-id=\"At-T2,-non-medical-assistance-is-required,-with-distance-limit-updated-to-be-more-tight-3.3\">At T2, non-medical assistance is required, with distance limit updated to be more tight</a></span></li></ul></li><li><span><a href=\"#Scenario-B,-adding-EHR-data-in-SNOMED-and-clinical-knowledge\" data-toc-modified-id=\"Scenario-B,-adding-EHR-data-in-SNOMED-and-clinical-knowledge-4\">Scenario B, adding EHR data in SNOMED and clinical knowledge</a></span><ul class=\"toc-item\"><li><span><a href=\"#At-T1,-a-fall-event-is-confirmed\" data-toc-modified-id=\"At-T1,-a-fall-event-is-confirmed-4.1\">At T1, a fall event is confirmed</a></span></li></ul></li><li><span><a href=\"#Scenario-C,-adding-EHR-data-in-ICD-and-clinical-knowledge\" data-toc-modified-id=\"Scenario-C,-adding-EHR-data-in-ICD-and-clinical-knowledge-5\">Scenario C, adding EHR data in ICD and clinical knowledge</a></span><ul class=\"toc-item\"><li><span><a href=\"#At-T1,-a-fall-event-is-confirmed\" data-toc-modified-id=\"At-T1,-a-fall-event-is-confirmed-5.1\">At T1, a fall event is confirmed</a></span></li></ul></li><li><span><a href=\"#Scenario-D,-adding-EHR-data-in-ICD-and-clinical-knowledge,-and-terminology-mapping\" data-toc-modified-id=\"Scenario-D,-adding-EHR-data-in-ICD-and-clinical-knowledge,-and-terminology-mapping-6\">Scenario D, adding EHR data in ICD and clinical knowledge, and terminology mapping</a></span><ul class=\"toc-item\"><li><span><a href=\"#At-T1,-a-fall-event-is-confirmed\" data-toc-modified-id=\"At-T1,-a-fall-event-is-confirmed-6.1\">At T1, a fall event is confirmed</a></span></li></ul></li></ul></div>"
   ]
  },
  {
   "cell_type": "markdown",
   "metadata": {},
   "source": [
    "## Introduction\n",
    "\n"
   ]
  },
  {
   "cell_type": "markdown",
   "metadata": {},
   "source": [
    "The objective of this demonstrator is to show how, by means of a semantic representation of the available resources, the weighted state transition logic is able to generate adaptive and personalized paths for the resolution of a detected fall event.<br>\n",
    "   \n",
    "With the terminology introduced in our paper, the semantic representation of resources is an example of descriptive intelligence, that is the ability to acquire the awareness of the current status by aggregating and understanding data from different resources. Knowledges of the relevant domains are expressed as inference rules to deduce new information, as an example of predictive intelligence. The adaptive path generation at different time frames is an example of prescriptive intelligence, that is the ability to guide a response based on awareness of the current state and prediction of future states.<br>\n",
    "   \n",
    "This demonstration contains four scenarios:\n",
    " - Scenario A demonstrates the generation of paths to solve a fall event at different time frames following the update of the context status. The generated paths are following the workflow specified in Figure 1.\n",
    " - Scenario B demonstrates that when diagnosis information from Electronic Healthcare Record (EHR) and relevant clinical knowledge is provided, the system is able to take such information into account and produce more appropriate paths.\n",
    " - Scenario C demonstrates that when there is semantic gap between the provided EHR data and clinical knowledge, the system is not able to well utilize the available information.\n",
    " - Scenario D demonstrates that by introducing terminology mapping to build common semantic, the system is able to well utilize the available information."
   ]
  },
  {
   "cell_type": "markdown",
   "metadata": {},
   "source": [
    "<img src=\"flow.png\" alt=\"Drawing\" style=\"width: 600px;\" title=\"A workflow with possible responses to a detected fall event\"/>\n",
    "<br>\n",
    "<center>Figure 1. A workflow with possible responses to a detected fall event</center>\n",
    "\n"
   ]
  },
  {
   "cell_type": "markdown",
   "metadata": {},
   "source": [
    "## Folders and files\n",
    "\n",
    "**data** <br>\n",
    "*This folder contains the data required for this scenario, acquired from different sources, and represented in the semantic web language RDF/Turtle:* <br>\n",
    "- basic_information.ttl - static information, including data about the patient, healthcare providers, their relations, etc.\n",
    "- data_t0.ttl - patient status at t0, including the fact that a fall event is detected\n",
    "- data_t1.ttl - patient status at t1, including the fact that a fall event is confirmed\n",
    "- data_t2.ttl - patient status at t2, including the fact that non medical assistance is required.\n",
    "- ehr_icd10.ttl - simplified electronic healthcare record of the patient, specifying a disease coded in ICD 10\n",
    "- ehr_snomed.ttl - simplified electronic healthcare record of the patient, specifying two diseases coded in SNOMEDCT\n",
    "\n",
    "By choosing between data_t0, data_t1, data_t2, we mimic the different status of the patient over three different time frames.<br>\n",
    "By choosing between ehr_icd10 and ehr_snomed, we mimic EHR of a patient in different healthcare systems.<br>\n",
    "\n",
    "**knowledge** <br>\n",
    "*This folder contains the knowledge used in this scenario, covering different domains, and represented in the semantic web language N3*<br>\n",
    "- aal_knowledge.n3 - knowledge of the AAL domain, to infer that two person are related based on stated relations.\n",
    "- clinical_knowledge.n3 - knowledge of the clinical domain, to infer that lower leg fracture is also a case of bone fracture, and that if a patient with bone fracture has a fall event confirmed, that person needs an ambulance.\n",
    "- service_descriptions.n3 - descriptions of a set of services, e.g. to confirm if it is a fall event, schedule an ambulance. \n",
    "- terminology_mapping.n3 - a sample case of terminology mapping between ICD 10 and SNOMED CT, using SKOS ontology.<br>\n",
    "\n",
    "**path** <br>\n",
    "*This folder contains the paths generated at the different stages*\n",
    "\n",
    "**path_engine.n3** <br>\n",
    "*This file is the weighted state transition engine implemented by Jos De Roo and Hong Sun*\n",
    "\n",
    "**goal.n3q** <br>\n",
    "*This file specifies the target state to reach, that is to resolve the detected fall event*"
   ]
  },
  {
   "cell_type": "markdown",
   "metadata": {},
   "source": [
    "<img src=\"abstract_service_description.png\" alt=\"Drawing\" style=\"width: 800px;\" title=\"Abstract service descriptions\"/>\n",
    "<br>\n",
    "<center>Figure 2. Abstract service descriptions</center>\n",
    "\n"
   ]
  },
  {
   "cell_type": "markdown",
   "metadata": {},
   "source": [
    "Figure 2 shows the abstract descriptions of a set of possible actions. Each action is considered as an activity that brings changes to the state of the person in assistance. Both the state before the action, as well as the state after the action are explicitly stated. When an action is executed, the state before the action will be replaced by the state after the action -- this is the core concept of the weighted state transition logic. "
   ]
  },
  {
   "cell_type": "markdown",
   "metadata": {},
   "source": [
    "## Scenario A, fulfiling the workflow with adaptive path generation, without specific clinical knowledge"
   ]
  },
  {
   "cell_type": "markdown",
   "metadata": {},
   "source": [
    "### At T0, a fall event is detected"
   ]
  },
  {
   "cell_type": "markdown",
   "metadata": {},
   "source": [
    "The system takes the available basic information, in combination with the service descriptions; the path generation engine generates a set of possible paths that leads to the satisfaction of the goal: to resolve the fall event."
   ]
  },
  {
   "cell_type": "markdown",
   "metadata": {},
   "source": [
    "*The script below generates and displays the paths towards the goal at T0*"
   ]
  },
  {
   "cell_type": "code",
   "execution_count": 1,
   "metadata": {},
   "outputs": [
    {
     "name": "stdout",
     "output_type": "stream",
     "text": [
      "#Processed by EYE v20.0910.0008 josd\n",
      "#eye --nope data/basic_information.ttl data/data_t0.ttl knowledge/aal_knowledge.n3 knowledge/service_descriptions.n3 path_engine.n3 --query goal.n3q\n",
      "\n",
      "@prefix sct: <http://snomed.info/id/>.\n",
      "@prefix care: <http://josd.github.io/eye/reasoning/gps/care#>.\n",
      "@prefix data: <http://josd.github.io/eye/reasoning/gps/data#>.\n",
      "@prefix math: <http://www.w3.org/2000/10/swap/math#>.\n",
      "@prefix xsd: <http://www.w3.org/2001/XMLSchema#>.\n",
      "@prefix e: <http://eulersharp.sourceforge.net/2003/03swap/log-rules#>.\n",
      "@prefix gps: <http://josd.github.io/eye/reasoning/gps/gps-schema#>.\n",
      "@prefix action: <http://josd.github.io/eye/reasoning/gps/action#>.\n",
      "@prefix medication: <http://josd.github.io/eye/reasoning/gps/medication#>.\n",
      "@prefix list: <http://www.w3.org/2000/10/swap/list#>.\n",
      "@prefix log: <http://www.w3.org/2000/10/swap/log#>.\n",
      "\n",
      "data:patient_1 gps:path ((action:confirm_fall action:check_assistance action:schedule_ambulance) care:ambulance_service).\n",
      "data:patient_1 gps:path ((action:confirm_fall action:check_assistance action:schedule_assistance) data:person_b).\n",
      "data:patient_1 gps:path ((action:confirm_fall action:check_assistance action:schedule_assistance) data:person_c).\n",
      "data:patient_1 gps:path ((action:confirm_fall action:check_assistance) care:Not_Needed).\n",
      "data:patient_1 gps:path ((action:confirm_fall) care:Not_Needed).\n",
      "\n",
      "#2021-02-22T19:40:24.911Z in=37 out=5 ent=11 step=43 brake=4 inf=141837 sec=0.140 inf/sec=1013121\n",
      "#ENDS\n",
      "\n"
     ]
    },
    {
     "name": "stderr",
     "output_type": "stream",
     "text": [
      "eye --nope data/basic_information.ttl data/data_t0.ttl knowledge/aal_knowledge.n3 knowledge/service_descriptions.n3 path_engine.n3 --query goal.n3q\n",
      "EYE v20.0910.0008 josd\n",
      "SWI-Prolog version 8.0.3\n",
      "starting 78 [msec cputime] 130 [msec walltime]\n",
      "GET file:///d:/github/aaldemo/fall_detection/data/basic_information.ttl SC=17\n",
      "GET file:///d:/github/aaldemo/fall_detection/data/data_t0.ttl SC=2\n",
      "GET file:///d:/github/aaldemo/fall_detection/knowledge/aal_knowledge.n3 SC=3\n",
      "GET file:///d:/github/aaldemo/fall_detection/knowledge/service_descriptions.n3 SC=7\n",
      "GET file:///d:/github/aaldemo/fall_detection/path_engine.n3 SC=7\n",
      "GET file:///d:/github/aaldemo/fall_detection/goal.n3q SC=1\n",
      "networking 47 [msec cputime] 52 [msec walltime]\n",
      "reasoning 15 [msec cputime] 17 [msec walltime]\n",
      "2021-02-22T19:40:24.911Z in=37 out=5 ent=11 step=43 brake=4 inf=141837 sec=0.140 inf/sec=1013121\n",
      "\n"
     ]
    }
   ],
   "source": [
    "!eye --nope data/basic_information.ttl data/data_t0.ttl knowledge/aal_knowledge.n3 knowledge/service_descriptions.n3 path_engine.n3 --query goal.n3q"
   ]
  },
  {
   "cell_type": "markdown",
   "metadata": {},
   "source": [
    "*The script below generates and stores the paths towards the goal. Currently disabled, it can be enabled by removing the '#' character*"
   ]
  },
  {
   "cell_type": "code",
   "execution_count": 3,
   "metadata": {},
   "outputs": [],
   "source": [
    "#  !eye --nope data/basic_information.ttl data/data_t0.ttl knowledge/aal_knowledge.n3 knowledge/service_descriptions.n3 path_engine.n3 --query goal.n3q> path/path_scenario_a_t0.n3"
   ]
  },
  {
   "cell_type": "markdown",
   "metadata": {},
   "source": [
    "Once a fall event is detected, five possible paths are generated below, each path consists of a set of actions, followed by the indication of the service provider:<br>\n",
    "- All the five paths start with confirming the fall event. If the fall event is not confirmed, the fall event is resolved and there is no need to provide care.\n",
    "- If the fall event is confirmed, the system then checks whether assistance is required, if there is no need to have assistance, then the fall event is resolved, and there is no need to provide service.\n",
    "- If the fall event is confirmed, and the person requires ambulance service, the ambulance service will be scheduled, and the fall event is considered as resolved.\n",
    "- If the fall event is confirmed, and the person requires non-medical service, the system will schedule such a service. It can either be provided by person_b or person_c. (In file basic_information.ttl, a person_d is also mentioned, but this person does not fulfil the requirement and can not be considered as service provider.)\n",
    "\n",
    "The five available paths cover the possible solutions in the workflow stated in Figure 1. In the rest of this demo, as time proceeds, the system will have its status updated, and the path towards the goal will also become more concrete."
   ]
  },
  {
   "cell_type": "markdown",
   "metadata": {},
   "source": [
    "| Scenario A: Generated paths at T0 |\n",
    "| :- |\n",
    "| data:patient_1 gps:path ((action:confirm_fall action:check_assistance action:schedule_ambulance) care:ambulance_service). |\n",
    "| data:patient_1 gps:path ((action:confirm_fall action:check_assistance action:schedule_assistance) data:person_b). |\n",
    "| data:patient_1 gps:path ((action:confirm_fall action:check_assistance action:schedule_assistance) data:person_c). |\n",
    "| data:patient_1 gps:path ((action:confirm_fall action:check_assistance) care:Not_Needed). |\n",
    "| data:patient_1 gps:path ((action:confirm_fall) care:Not_Needed). |"
   ]
  },
  {
   "cell_type": "markdown",
   "metadata": {},
   "source": [
    "### At T1, a fall event is confirmed"
   ]
  },
  {
   "cell_type": "markdown",
   "metadata": {},
   "source": [
    "*The script below generates and displays/stores the paths towards the goal at T1. Currently disabled, it can be enabled by removing the '#' character*"
   ]
  },
  {
   "cell_type": "code",
   "execution_count": 5,
   "metadata": {},
   "outputs": [],
   "source": [
    "# !eye --nope data/basic_information.ttl data/data_t1.ttl knowledge/aal_knowledge.n3 knowledge/service_descriptions.n3 path_engine.n3 --query goal.n3q\n",
    "# !eye --nope data/basic_information.ttl data/data_t1.ttl knowledge/aal_knowledge.n3 knowledge/service_descriptions.n3 path_engine.n3 --query goal.n3q> path/path_scenario_a_t1.n3"
   ]
  },
  {
   "cell_type": "markdown",
   "metadata": {},
   "source": [
    "Four possible paths are generated after the fall event is confirmed. Compared with the five possible paths at T0, it is now no longer possible to solve this issue by negating the fall event. Moreover, all the remaining four paths do not check whether it is a real fall event or not, because this has been already confirmed."
   ]
  },
  {
   "cell_type": "markdown",
   "metadata": {},
   "source": [
    "| Scenario A: Generated paths at T1 |\n",
    "| :- |\n",
    "| data:patient_1 gps:path ((action:check_assistance action:schedule_ambulance) care:ambulance_service). |\n",
    "| data:patient_1 gps:path ((action:check_assistance action:schedule_assistance) data:person_b). |\n",
    "| data:patient_1 gps:path ((action:check_assistance action:schedule_assistance) data:person_c). |\n",
    "| data:patient_1 gps:path ((action:check_assistance) care:Not_Needed). |"
   ]
  },
  {
   "cell_type": "markdown",
   "metadata": {},
   "source": [
    "### At T2, non-medical assistance is required, with distance limit updated to be more tight"
   ]
  },
  {
   "cell_type": "markdown",
   "metadata": {},
   "source": [
    "*The script below generates and displays/stores the paths towards the goal at T2. Currently disabled, it can be enabled by removing the '#' character*"
   ]
  },
  {
   "cell_type": "code",
   "execution_count": 7,
   "metadata": {},
   "outputs": [],
   "source": [
    "# !eye --nope data/basic_information.ttl data/data_t2.ttl knowledge/aal_knowledge.n3 knowledge/service_descriptions.n3 path_engine.n3 --query goal.n3q\n",
    "# !eye --nope data/basic_information.ttl data/data_t2.ttl knowledge/aal_knowledge.n3 knowledge/service_descriptions.n3 path_engine.n3 --query goal.n3q> path/path_scenario_a_t2.n3"
   ]
  },
  {
   "cell_type": "markdown",
   "metadata": {},
   "source": [
    "At T2, it is stated that non medical assistance is required. Both person_b and person_c can provide non-mdedical services, they are both listed as possible candidate in the paths generated at T0 and T1. However, since the distance limit is also updated to be more tight at T2, person_b no longer meet the consraints, and person_c is left as the only candidate."
   ]
  },
  {
   "cell_type": "markdown",
   "metadata": {},
   "source": [
    "| Generated paths at T2 |\n",
    "| :- |\n",
    "| data:patient_1 gps:path ((action:schedule_assistance) data:person_c). |"
   ]
  },
  {
   "cell_type": "markdown",
   "metadata": {},
   "source": [
    "## Scenario B, adding EHR data in SNOMED and clinical knowledge"
   ]
  },
  {
   "cell_type": "markdown",
   "metadata": {},
   "source": [
    "### At T1, a fall event is confirmed"
   ]
  },
  {
   "cell_type": "markdown",
   "metadata": {},
   "source": [
    "*The script below generates and displays/stores the paths towards the goal at T1 in Scenario B, currently disabled, enable by removing the '#' sign*"
   ]
  },
  {
   "cell_type": "code",
   "execution_count": 9,
   "metadata": {},
   "outputs": [],
   "source": [
    "# !eye --nope data/basic_information.ttl data/ehr_snomed.ttl data/data_t1.ttl knowledge/aal_knowledge.n3 knowledge/clinical_knowledge.n3 knowledge/service_descriptions.n3 path_engine.n3 --query goal.n3q\n",
    "# !eye --nope data/basic_information.ttl data/ehr_snomed.ttl data/data_t1.ttl knowledge/aal_knowledge.n3 knowledge/clinical_knowledge.n3 knowledge/service_descriptions.n3 path_engine.n3 --query goal.n3q> path/path_scenario_b_t1.n3"
   ]
  },
  {
   "cell_type": "markdown",
   "metadata": {},
   "source": [
    "Compared with Scenario A, two additional data are included:\n",
    "- ehr_snomed.ttl, in which we state that the patient is diagnosed with lower leg fracture (by stating a SNOMED CODE 414292006)\n",
    "- clinical_knowledge.n3, in which we state that: 1), if a person has lower leg fracture, the person is also considered to have bone fracture; 2), if a person has bone fracture, when it is confirmed that the person has fallen, that person needs ambulance service.\n",
    "\n",
    "Based on the extended EHR data and clinical knowledge, when a fall event is confirmed, it can be deduced that the ambulance service is required. The path to consider that no assistance is required, or that non-medical service is required are no longer fulfilling their conditions (that ambulance service is not required). Therefore, compared with T1 in Scenario A, there are only two possible paths left. Actually, there is no need to check if ambulance service is required anymore because it is already deduced.If we add a condition to the service description, that only when there is no explicit statement that ambulance is required, we then check if an ambulance is required, then the solution will further reduce to only one path left, namely immediately schedule ambulance service."
   ]
  },
  {
   "cell_type": "markdown",
   "metadata": {},
   "source": [
    "| Scenario B: Generated paths at T1 |\n",
    "| :- |\n",
    "| data:patient_1 gps:path ((action:check_assistance action:schedule_ambulance) care:ambulance_service). |\n",
    "| data:patient_1 gps:path ((action:schedule_ambulance) care:ambulance_service). |"
   ]
  },
  {
   "cell_type": "markdown",
   "metadata": {},
   "source": [
    "## Scenario C, adding EHR data in ICD and clinical knowledge"
   ]
  },
  {
   "cell_type": "markdown",
   "metadata": {},
   "source": [
    "### At T1, a fall event is confirmed"
   ]
  },
  {
   "cell_type": "markdown",
   "metadata": {},
   "source": [
    "*The script below generates and displays/stores the paths towards the goal at T1 in Scenario C, currently disabled, enable by removing the '#' sign*"
   ]
  },
  {
   "cell_type": "code",
   "execution_count": 11,
   "metadata": {
    "scrolled": true
   },
   "outputs": [],
   "source": [
    "# !eye --nope data/basic_information.ttl data/ehr_icd10.ttl data/data_t1.ttl knowledge/aal_knowledge.n3 knowledge/clinical_knowledge.n3 knowledge/service_descriptions.n3 path_engine.n3 --query goal.n3q\n",
    "# !eye --nope data/basic_information.ttl data/ehr_icd10.ttl data/data_t1.ttl knowledge/aal_knowledge.n3 knowledge/clinical_knowledge.n3 knowledge/service_descriptions.n3 path_engine.n3 --query goal.n3q> path/path_scenario_c_t1.n3"
   ]
  },
  {
   "cell_type": "markdown",
   "metadata": {},
   "source": [
    "Compared with Scenario B, there is only one change made in Scenario C, that is to replace ehr_snomed.ttl with ehr_icd10.ttl. That is instead of representing the dignosis of lower leg fracture in SNOMED CT code, in this scenario, it is represented as ICD 10 code (S82).\n",
    "The consequence of this is that since the knowledge expressed in clinical_knowledge.n3 is based on SNOMED code, the system is not able to understand the diagnosis coded in ICD 10. Thus the system is not able to deduce that ambulance service is required, and paths generated in Scenario C are the same as Scenario A, although now both relevant clinical knowledge and data are provided.\n",
    "\n",
    "This scenario signifies the importance to build a semantic data framework, that data and knowledge from different resources can be mapped to each other based on common semantic."
   ]
  },
  {
   "cell_type": "markdown",
   "metadata": {},
   "source": [
    "| Scenario C: Generated paths at T1 |\n",
    "| :- |\n",
    "| data:patient_1 gps:path ((action:check_assistance action:schedule_ambulance) care:ambulance_service). |\n",
    "| data:patient_1 gps:path ((action:check_assistance action:schedule_assistance) data:person_b). |\n",
    "| data:patient_1 gps:path ((action:check_assistance action:schedule_assistance) data:person_c). |\n",
    "| data:patient_1 gps:path ((action:check_assistance) care:Not_Needed). |"
   ]
  },
  {
   "cell_type": "markdown",
   "metadata": {},
   "source": [
    "## Scenario D, adding EHR data in ICD and clinical knowledge, and terminology mapping"
   ]
  },
  {
   "cell_type": "markdown",
   "metadata": {},
   "source": [
    "### At T1, a fall event is confirmed"
   ]
  },
  {
   "cell_type": "markdown",
   "metadata": {},
   "source": [
    "*The script below generates and displays/stores the paths towards the goal at T1 in Scenario D, currently disabled, enable by removing the '#' sign*"
   ]
  },
  {
   "cell_type": "code",
   "execution_count": 13,
   "metadata": {
    "scrolled": true
   },
   "outputs": [],
   "source": [
    "# !eye --nope data/basic_information.ttl data/ehr_icd10.ttl data/data_t1.ttl knowledge/aal_knowledge.n3 knowledge/clinical_knowledge.n3 knowledge/terminology_mapping.n3 knowledge/service_descriptions.n3 path_engine.n3 --query goal.n3q\n",
    "# !eye --nope data/basic_information.ttl data/ehr_icd10.ttl data/data_t1.ttl knowledge/aal_knowledge.n3 knowledge/clinical_knowledge.n3 knowledge/terminology_mapping.n3 knowledge/service_descriptions.n3 path_engine.n3 --query goal.n3q> path/path_scenario_d_t1.n3"
   ]
  },
  {
   "cell_type": "markdown",
   "metadata": {},
   "source": [
    "Compared with Scenario C, this scenario adds an additional terminology mapping file (terminology_mapping.n3), where terminology mappings between ICD 10 and SNOMED CT are established by means of SKOS ontology. The system is then again able to deduce that the ambulance service is required, and generates the same paths as in Scenario B. \n",
    "\n",
    "This scenario shows that although semantic gap exists in data from different resources, it is possible to alleviate such a semantic gap by applying appropriate semantic mappings, and build a solid predictive intelligence layer to support advanced applications with prescriptive intelligence."
   ]
  },
  {
   "cell_type": "markdown",
   "metadata": {},
   "source": [
    "| Scenario D: Generated paths at T1 |\n",
    "| :- |\n",
    "| data:patient_1 gps:path ((action:check_assistance action:schedule_ambulance) care:ambulance_service). |\n",
    "| data:patient_1 gps:path ((action:schedule_ambulance) care:ambulance_service). |"
   ]
  },
  {
   "cell_type": "code",
   "execution_count": null,
   "metadata": {},
   "outputs": [],
   "source": []
  }
 ],
 "metadata": {
  "kernelspec": {
   "display_name": "Python 3",
   "language": "python",
   "name": "python3"
  },
  "language_info": {
   "codemirror_mode": {
    "name": "ipython",
    "version": 3
   },
   "file_extension": ".py",
   "mimetype": "text/x-python",
   "name": "python",
   "nbconvert_exporter": "python",
   "pygments_lexer": "ipython3",
   "version": "3.7.7"
  },
  "toc": {
   "base_numbering": 1,
   "nav_menu": {},
   "number_sections": false,
   "sideBar": true,
   "skip_h1_title": false,
   "title_cell": "Table of Contents",
   "title_sidebar": "Contents",
   "toc_cell": true,
   "toc_position": {},
   "toc_section_display": true,
   "toc_window_display": false
  }
 },
 "nbformat": 4,
 "nbformat_minor": 4
}
